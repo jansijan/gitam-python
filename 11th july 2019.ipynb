{
 "cells": [
  {
   "cell_type": "markdown",
   "metadata": {},
   "source": [
    "### standard libraries\n",
    "- file I/O\n",
    "- regular expressions\n",
    "- datetime\n",
    "- math(numerical and mathematical)\n"
   ]
  },
  {
   "cell_type": "markdown",
   "metadata": {},
   "source": [
    "### file handling in python\n",
    "- file:- document containing information resides on the permanent storage\n",
    "- different types of files:-txt,doc,pdf,csv and etc...\n",
    "- input--keyboard\n",
    "- output--file\n",
    "### modes of the file I/O\n",
    "- 'w'--this is used to file writing\n",
    "    \n",
    "    \n",
    "    --if the file is not present first it create the file and write so me data to it\n",
    "     "
   ]
  },
  {
   "cell_type": "code",
   "execution_count": 1,
   "metadata": {},
   "outputs": [
    {
     "name": "stdout",
     "output_type": "stream",
     "text": [
      "file is created and data has written\n"
     ]
    }
   ],
   "source": [
    "# function to create a file and write to the file\n",
    "def createfile (filename):\n",
    "    f=open(filename,'w')\n",
    "    for i in range(10):\n",
    "        f.write('this is %d line'%i)\n",
    "    print(\"file is created and data has written\")\n",
    "    return\n",
    "createfile('file1.txt')"
   ]
  },
  {
   "cell_type": "code",
   "execution_count": 2,
   "metadata": {},
   "outputs": [
    {
     "name": "stdout",
     "output_type": "stream",
     "text": [
      " Volume in drive C has no label.\n",
      " Volume Serial Number is D881-6603\n",
      "\n",
      " Directory of C:\\Users\\student\n",
      "\n",
      "11-07-2019  09:35    <DIR>          .\n",
      "11-07-2019  09:35    <DIR>          ..\n",
      "21-06-2019  14:26    <DIR>          .anaconda\n",
      "22-06-2019  15:20    <DIR>          .conda\n",
      "29-06-2019  09:22                43 .condarc\n",
      "29-06-2019  10:35    <DIR>          .idlerc\n",
      "11-07-2019  09:10    <DIR>          .ipynb_checkpoints\n",
      "21-06-2019  14:28    <DIR>          .ipython\n",
      "22-06-2019  09:31    <DIR>          .jupyter\n",
      "28-06-2019  15:46    <DIR>          .matplotlib\n",
      "18-06-2019  09:17    <DIR>          .oracle_jre_usage\n",
      "10-07-2019  16:33            13,963 10th july 2019.ipynb\n",
      "11-07-2019  09:34             1,509 11th july 2019.ipynb\n",
      "29-06-2019  12:18    <DIR>          221810304014\n",
      "06-07-2019  12:47             5,711 6th july 2019.ipynb\n",
      "08-07-2019  15:55            22,227 8th june 2019.ipynb\n",
      "09-07-2019  16:25            12,422 9th july 2019.ipynb\n",
      "21-06-2019  11:53    <DIR>          Anaconda3\n",
      "09-07-2019  17:07             1,757 assemnt.ipynb\n",
      "10-07-2019  11:34             2,349 assesment 1.ipynb\n",
      "18-06-2019  09:11    <DIR>          Contacts\n",
      "08-07-2019  17:21    <DIR>          Desktop\n",
      "05-07-2019  14:21    <DIR>          Documents\n",
      "10-07-2019  16:49    <DIR>          Downloads\n",
      "18-06-2019  09:11    <DIR>          Favorites\n",
      "11-07-2019  09:35               140 file1.txt\n",
      "18-06-2019  09:11    <DIR>          Links\n",
      "18-06-2019  09:11    <DIR>          Music\n",
      "09-07-2019  16:31    <DIR>          Pictures\n",
      "18-06-2019  09:11    <DIR>          Saved Games\n",
      "18-06-2019  09:11    <DIR>          Searches\n",
      "18-06-2019  09:11    <DIR>          Videos\n",
      "               9 File(s)         60,121 bytes\n",
      "              23 Dir(s)  66,555,416,576 bytes free\n"
     ]
    }
   ],
   "source": [
    "ls"
   ]
  },
  {
   "cell_type": "code",
   "execution_count": 3,
   "metadata": {},
   "outputs": [
    {
     "name": "stdout",
     "output_type": "stream",
     "text": [
      "file is created and data has written\n"
     ]
    }
   ],
   "source": [
    "def createfile(filename):\n",
    "    f=open(filename,'w')\n",
    "    f.write('testing...\\n')\n",
    "    print(\"file is created and data has written\")\n",
    "    return\n",
    "createfile('file1.txt')"
   ]
  },
  {
   "cell_type": "code",
   "execution_count": 4,
   "metadata": {},
   "outputs": [
    {
     "name": "stdout",
     "output_type": "stream",
     "text": [
      " Volume in drive C has no label.\n",
      " Volume Serial Number is D881-6603\n",
      "\n",
      " Directory of C:\\Users\\student\n",
      "\n",
      "11-07-2019  09:54    <DIR>          .\n",
      "11-07-2019  09:54    <DIR>          ..\n",
      "21-06-2019  14:26    <DIR>          .anaconda\n",
      "22-06-2019  15:20    <DIR>          .conda\n",
      "29-06-2019  09:22                43 .condarc\n",
      "29-06-2019  10:35    <DIR>          .idlerc\n",
      "11-07-2019  09:10    <DIR>          .ipynb_checkpoints\n",
      "21-06-2019  14:28    <DIR>          .ipython\n",
      "22-06-2019  09:31    <DIR>          .jupyter\n",
      "28-06-2019  15:46    <DIR>          .matplotlib\n",
      "18-06-2019  09:17    <DIR>          .oracle_jre_usage\n",
      "10-07-2019  16:33            13,963 10th july 2019.ipynb\n",
      "11-07-2019  09:54             4,371 11th july 2019.ipynb\n",
      "29-06-2019  12:18    <DIR>          221810304014\n",
      "06-07-2019  12:47             5,711 6th july 2019.ipynb\n",
      "08-07-2019  15:55            22,227 8th june 2019.ipynb\n",
      "09-07-2019  16:25            12,422 9th july 2019.ipynb\n",
      "21-06-2019  11:53    <DIR>          Anaconda3\n",
      "09-07-2019  17:07             1,757 assemnt.ipynb\n",
      "10-07-2019  11:34             2,349 assesment 1.ipynb\n",
      "18-06-2019  09:11    <DIR>          Contacts\n",
      "08-07-2019  17:21    <DIR>          Desktop\n",
      "05-07-2019  14:21    <DIR>          Documents\n",
      "10-07-2019  16:49    <DIR>          Downloads\n",
      "18-06-2019  09:11    <DIR>          Favorites\n",
      "11-07-2019  09:55                12 file1.txt\n",
      "18-06-2019  09:11    <DIR>          Links\n",
      "18-06-2019  09:11    <DIR>          Music\n",
      "09-07-2019  16:31    <DIR>          Pictures\n",
      "18-06-2019  09:11    <DIR>          Saved Games\n",
      "18-06-2019  09:11    <DIR>          Searches\n",
      "18-06-2019  09:11    <DIR>          Videos\n",
      "               9 File(s)         62,855 bytes\n",
      "              23 Dir(s)  66,543,222,784 bytes free\n"
     ]
    }
   ],
   "source": [
    "ls"
   ]
  },
  {
   "cell_type": "code",
   "execution_count": 5,
   "metadata": {},
   "outputs": [
    {
     "name": "stdout",
     "output_type": "stream",
     "text": [
      "file created and successfully data written\n"
     ]
    }
   ],
   "source": [
    "def appenddata(filename):\n",
    "    f=open(filename,'a')\n",
    "    for i in range(10):\n",
    "        f.write(\"this is %d line\\n\" %i)\n",
    "        print(\"file created and successfully data written\")\n",
    "        return\n",
    "appenddata('file2.txt')"
   ]
  },
  {
   "cell_type": "code",
   "execution_count": 9,
   "metadata": {},
   "outputs": [
    {
     "name": "stdout",
     "output_type": "stream",
     "text": [
      "file created and successfully data written\n"
     ]
    }
   ],
   "source": [
    "def appendData(filename):\n",
    "    f=open(filename,'a')\n",
    "    f.write(\"new line 1\\n\")\n",
    "    f.write(\"new line 2\\n\")\n",
    "    print(\"file created and successfully data written\")\n",
    "    return\n",
    "appendData('file2.txt')"
   ]
  },
  {
   "cell_type": "code",
   "execution_count": 10,
   "metadata": {},
   "outputs": [
    {
     "name": "stdout",
     "output_type": "stream",
     "text": [
      "this is 0 line\n",
      "new line 1\n",
      "new line 2\n",
      "\n"
     ]
    }
   ],
   "source": [
    "# function to read of the file\n",
    "def readfiledata(filename):\n",
    "    f=open(filename,'r')\n",
    "    if f.mode=='r':\n",
    "        x=f.read()\n",
    "        print(x)\n",
    "    f.close()\n",
    "    return\n",
    "readfiledata('file2.txt')"
   ]
  },
  {
   "cell_type": "code",
   "execution_count": 1,
   "metadata": {},
   "outputs": [
    {
     "name": "stdout",
     "output_type": "stream",
     "text": [
      "enter the filenamedata.txt\n",
      "enter the mode of the filea\n",
      "the data successfully written\n"
     ]
    }
   ],
   "source": [
    "# function to read the file\n",
    "def fileoperations(filename,mode):\n",
    "    with open(filename,mode) as f:\n",
    "        if f.mode=='r':\n",
    "            data=f.read()\n",
    "            print(data)\n",
    "        elif f.mode=='a':\n",
    "            f.write('data to the file')\n",
    "            print('the data successfully written')\n",
    "    f.close()        \n",
    "    return\n",
    "filename=input('enter the filename')\n",
    "mode=input('enter the mode of the file')\n",
    "fileoperations(filename,mode)"
   ]
  },
  {
   "cell_type": "code",
   "execution_count": 8,
   "metadata": {},
   "outputs": [
    {
     "name": "stdout",
     "output_type": "stream",
     "text": [
      "enter the file name:file2.txt\n",
      "enter the word:this\n"
     ]
    },
    {
     "data": {
      "text/plain": [
       "1"
      ]
     },
     "execution_count": 8,
     "metadata": {},
     "output_type": "execute_result"
    }
   ],
   "source": [
    "# data analysis\n",
    "#word count program\n",
    "def wordcount(filename,word):\n",
    "    with open(filename,'r') as f:\n",
    "        if f.mode== 'r': \n",
    "            x=f.read()\n",
    "            li=x.split()\n",
    "    cnt=li.count(word)    \n",
    "    return cnt\n",
    "filename=input('enter the file name:')\n",
    "word=input('enter the word:')\n",
    "wordcount(filename,word)"
   ]
  },
  {
   "cell_type": "code",
   "execution_count": 10,
   "metadata": {},
   "outputs": [
    {
     "name": "stdout",
     "output_type": "stream",
     "text": [
      "enter the filename:file2.txt\n"
     ]
    },
    {
     "data": {
      "text/plain": [
       "37"
      ]
     },
     "execution_count": 10,
     "metadata": {},
     "output_type": "execute_result"
    }
   ],
   "source": [
    "# character count from the given file\n",
    "def charcount(filename):\n",
    "    with open(filename,'r')as f:\n",
    "        if f.mode=='r':\n",
    "            x=f.read()\n",
    "            li=list(x)\n",
    "    return len(li)\n",
    "filename=input('enter the filename:')\n",
    "charcount(filename)"
   ]
  },
  {
   "cell_type": "code",
   "execution_count": 11,
   "metadata": {},
   "outputs": [
    {
     "name": "stdout",
     "output_type": "stream",
     "text": [
      "['python progr', 'mming']\n"
     ]
    }
   ],
   "source": [
    "s1=\"python programming\"\n",
    "print(s1.split('a'))"
   ]
  },
  {
   "cell_type": "code",
   "execution_count": 12,
   "metadata": {},
   "outputs": [
    {
     "name": "stdout",
     "output_type": "stream",
     "text": [
      "enter the filename:file2.txt\n"
     ]
    },
    {
     "data": {
      "text/plain": [
       "4"
      ]
     },
     "execution_count": 12,
     "metadata": {},
     "output_type": "execute_result"
    }
   ],
   "source": [
    "# function to find the no of lines in the input file\n",
    "# input -- filename(file2.txt)\n",
    "# output -- no of lines(12)\n",
    "def countoflines(filename):\n",
    "    with open(filename,'r')as f:\n",
    "        if f.mode=='r':\n",
    "            x=f.read()\n",
    "            li=x.split(\"\\n\")\n",
    "    return len(li)\n",
    "filename=input('enter the filename:')\n",
    "countoflines(filename)"
   ]
  },
  {
   "cell_type": "code",
   "execution_count": 13,
   "metadata": {},
   "outputs": [
    {
     "name": "stdout",
     "output_type": "stream",
     "text": [
      "enter the filename :file2.txt\n"
     ]
    },
    {
     "data": {
      "text/plain": [
       "'upper case = 0 , lower case = 24'"
      ]
     },
     "execution_count": 13,
     "metadata": {},
     "output_type": "execute_result"
    }
   ],
   "source": [
    "#function to print the upper and lower characterrs\n",
    "def casecount(filename):\n",
    "    cntupper = 0\n",
    "    cntlower = 0\n",
    "    with open(filename,'r') as f:\n",
    "        if f.mode == 'r':\n",
    "            x = f.read()\n",
    "            li = list(x)\n",
    "    for i in li:\n",
    "        if i.isupper():\n",
    "            cntupper += 1\n",
    "        elif i.islower():\n",
    "            cntlower += 1\n",
    "    output = 'upper case = {0} , lower case = {1}'.format(cntupper,cntlower)\n",
    "    return output\n",
    "filename = input('enter the filename :')\n",
    "casecount(filename)\n"
   ]
  },
  {
   "cell_type": "markdown",
   "metadata": {},
   "source": [
    "### math,randon,os\n",
    "- os package it contains the certains methods which works with os"
   ]
  },
  {
   "cell_type": "code",
   "execution_count": 14,
   "metadata": {},
   "outputs": [
    {
     "name": "stdout",
     "output_type": "stream",
     "text": [
      " Volume in drive C has no label.\n",
      " Volume Serial Number is D881-6603\n",
      "\n",
      " Directory of C:\\Users\\student\n",
      "\n",
      "11-07-2019  12:28    <DIR>          .\n",
      "11-07-2019  12:28    <DIR>          ..\n",
      "21-06-2019  14:26    <DIR>          .anaconda\n",
      "22-06-2019  15:20    <DIR>          .conda\n",
      "29-06-2019  09:22                43 .condarc\n",
      "29-06-2019  10:35    <DIR>          .idlerc\n",
      "11-07-2019  09:10    <DIR>          .ipynb_checkpoints\n",
      "21-06-2019  14:28    <DIR>          .ipython\n",
      "22-06-2019  09:31    <DIR>          .jupyter\n",
      "28-06-2019  15:46    <DIR>          .matplotlib\n",
      "18-06-2019  09:17    <DIR>          .oracle_jre_usage\n",
      "10-07-2019  16:33            13,963 10th july 2019.ipynb\n",
      "11-07-2019  12:28            13,562 11th july 2019.ipynb\n",
      "29-06-2019  12:18    <DIR>          221810304014\n",
      "06-07-2019  12:47             5,711 6th july 2019.ipynb\n",
      "08-07-2019  15:55            22,227 8th june 2019.ipynb\n",
      "09-07-2019  16:25            12,422 9th july 2019.ipynb\n",
      "21-06-2019  11:53    <DIR>          Anaconda3\n",
      "09-07-2019  17:07             1,757 assemnt.ipynb\n",
      "10-07-2019  11:34             2,349 assesment 1.ipynb\n",
      "18-06-2019  09:11    <DIR>          Contacts\n",
      "11-07-2019  10:25                16 data\n",
      "11-07-2019  10:29                16 data.txt\n",
      "08-07-2019  17:21    <DIR>          Desktop\n",
      "05-07-2019  14:21    <DIR>          Documents\n",
      "10-07-2019  16:49    <DIR>          Downloads\n",
      "18-06-2019  09:11    <DIR>          Favorites\n",
      "11-07-2019  09:55                12 file1.txt\n",
      "11-07-2019  10:08                40 file2.txt\n",
      "18-06-2019  09:11    <DIR>          Links\n",
      "18-06-2019  09:11    <DIR>          Music\n",
      "09-07-2019  16:31    <DIR>          Pictures\n",
      "18-06-2019  09:11    <DIR>          Saved Games\n",
      "18-06-2019  09:11    <DIR>          Searches\n",
      "18-06-2019  09:11    <DIR>          Videos\n",
      "              12 File(s)         72,118 bytes\n",
      "              23 Dir(s)  66,543,104,000 bytes free\n"
     ]
    }
   ],
   "source": [
    "ls\n"
   ]
  },
  {
   "cell_type": "code",
   "execution_count": 15,
   "metadata": {},
   "outputs": [
    {
     "name": "stdout",
     "output_type": "stream",
     "text": [
      "C:\\Users\n"
     ]
    }
   ],
   "source": [
    "cd .."
   ]
  },
  {
   "cell_type": "code",
   "execution_count": 16,
   "metadata": {},
   "outputs": [
    {
     "data": {
      "text/plain": [
       "['.anaconda',\n",
       " '.conda',\n",
       " '.condarc',\n",
       " '.idlerc',\n",
       " '.ipynb_checkpoints',\n",
       " '.ipython',\n",
       " '.jupyter',\n",
       " '.matplotlib',\n",
       " '.oracle_jre_usage',\n",
       " '10th july 2019.ipynb',\n",
       " '11th july 2019.ipynb',\n",
       " '221810304014',\n",
       " '6th july 2019.ipynb',\n",
       " '8th june 2019.ipynb',\n",
       " '9th july 2019.ipynb',\n",
       " 'Anaconda3',\n",
       " 'AppData',\n",
       " 'Application Data',\n",
       " 'assemnt.ipynb',\n",
       " 'assesment 1.ipynb',\n",
       " 'Contacts',\n",
       " 'Cookies',\n",
       " 'data',\n",
       " 'data.txt',\n",
       " 'Desktop',\n",
       " 'Documents',\n",
       " 'Downloads',\n",
       " 'Favorites',\n",
       " 'file1.txt',\n",
       " 'file2.txt',\n",
       " 'Links',\n",
       " 'Local Settings',\n",
       " 'Music',\n",
       " 'My Documents',\n",
       " 'NetHood',\n",
       " 'NTUSER.DAT',\n",
       " 'ntuser.dat.LOG1',\n",
       " 'ntuser.dat.LOG2',\n",
       " 'NTUSER.DAT{6cced2f1-6e01-11de-8bed-001e0bcd1824}.TM.blf',\n",
       " 'NTUSER.DAT{6cced2f1-6e01-11de-8bed-001e0bcd1824}.TMContainer00000000000000000001.regtrans-ms',\n",
       " 'NTUSER.DAT{6cced2f1-6e01-11de-8bed-001e0bcd1824}.TMContainer00000000000000000002.regtrans-ms',\n",
       " 'ntuser.ini',\n",
       " 'Pictures',\n",
       " 'PrintHood',\n",
       " 'Recent',\n",
       " 'Saved Games',\n",
       " 'Searches',\n",
       " 'SendTo',\n",
       " 'Start Menu',\n",
       " 'Templates',\n",
       " 'Videos']"
      ]
     },
     "execution_count": 16,
     "metadata": {},
     "output_type": "execute_result"
    }
   ],
   "source": [
    "import os\n",
    "os.listdir('student') #listdir() -- ls"
   ]
  },
  {
   "cell_type": "code",
   "execution_count": 20,
   "metadata": {},
   "outputs": [
    {
     "name": "stdout",
     "output_type": "stream",
     "text": [
      ".anaconda\n",
      ".conda\n",
      ".condarc\n",
      ".idlerc\n",
      ".ipynb_checkpoints\n",
      ".ipython\n",
      ".jupyter\n",
      ".matplotlib\n",
      ".oracle_jre_usage\n",
      "10th july 2019.ipynb\n",
      "11th july 2019.ipynb\n",
      "221810304014\n",
      "6th july 2019.ipynb\n",
      "8th june 2019.ipynb\n",
      "9th july 2019.ipynb\n",
      "Anaconda3\n",
      "AppData\n",
      "Application Data\n",
      "assemnt.ipynb\n",
      "assesment 1.ipynb\n",
      "Contacts\n",
      "Cookies\n",
      "data\n",
      "data.txt\n",
      "Desktop\n",
      "Documents\n",
      "Downloads\n",
      "Favorites\n",
      "file1.txt\n",
      "file2.txt\n",
      "Links\n",
      "Local Settings\n",
      "Music\n",
      "My Documents\n",
      "NetHood\n",
      "NTUSER.DAT\n",
      "ntuser.dat.LOG1\n",
      "ntuser.dat.LOG2\n",
      "NTUSER.DAT{6cced2f1-6e01-11de-8bed-001e0bcd1824}.TM.blf\n",
      "NTUSER.DAT{6cced2f1-6e01-11de-8bed-001e0bcd1824}.TMContainer00000000000000000001.regtrans-ms\n",
      "NTUSER.DAT{6cced2f1-6e01-11de-8bed-001e0bcd1824}.TMContainer00000000000000000002.regtrans-ms\n",
      "ntuser.ini\n",
      "Pictures\n",
      "PrintHood\n",
      "Recent\n",
      "Saved Games\n",
      "Searches\n",
      "SendTo\n",
      "Start Menu\n",
      "Templates\n",
      "Videos\n"
     ]
    }
   ],
   "source": [
    "li=os.listdir('student/')\n",
    "for i in li:\n",
    "    print(i)"
   ]
  },
  {
   "cell_type": "markdown",
   "metadata": {},
   "source": [
    "- older version python--os.listdir()\n",
    "- new version python--os.scandir() and pathlib.path()"
   ]
  },
  {
   "cell_type": "code",
   "execution_count": 23,
   "metadata": {},
   "outputs": [
    {
     "name": "stdout",
     "output_type": "stream",
     "text": [
      "<DirEntry '.anaconda'>\n",
      "<DirEntry '.conda'>\n",
      "<DirEntry '.condarc'>\n",
      "<DirEntry '.idlerc'>\n",
      "<DirEntry '.ipynb_checkpoints'>\n",
      "<DirEntry '.ipython'>\n",
      "<DirEntry '.jupyter'>\n",
      "<DirEntry '.matplotlib'>\n",
      "<DirEntry '.oracle_jre_usage'>\n",
      "<DirEntry '10th july 2019.ipynb'>\n",
      "<DirEntry '11th july 2019.ipynb'>\n",
      "<DirEntry '221810304014'>\n",
      "<DirEntry '6th july 2019.ipynb'>\n",
      "<DirEntry '8th june 2019.ipynb'>\n",
      "<DirEntry '9th july 2019.ipynb'>\n",
      "<DirEntry 'Anaconda3'>\n",
      "<DirEntry 'AppData'>\n",
      "<DirEntry 'Application Data'>\n",
      "<DirEntry 'assemnt.ipynb'>\n",
      "<DirEntry 'assesment 1.ipynb'>\n",
      "<DirEntry 'Contacts'>\n",
      "<DirEntry 'Cookies'>\n",
      "<DirEntry 'data'>\n",
      "<DirEntry 'data.txt'>\n",
      "<DirEntry 'Desktop'>\n",
      "<DirEntry 'Documents'>\n",
      "<DirEntry 'Downloads'>\n",
      "<DirEntry 'Favorites'>\n",
      "<DirEntry 'file1.txt'>\n",
      "<DirEntry 'file2.txt'>\n",
      "<DirEntry 'Links'>\n",
      "<DirEntry 'Local Settings'>\n",
      "<DirEntry 'Music'>\n",
      "<DirEntry 'My Documents'>\n",
      "<DirEntry 'NetHood'>\n",
      "<DirEntry 'NTUSER.DAT'>\n",
      "<DirEntry 'ntuser.dat.LOG1'>\n",
      "<DirEntry 'ntuser.dat.LOG2'>\n",
      "<DirEntry 'NTUSER.DAT{6cced2f1-6e01-11de-8bed-001e0bcd1824}.TM.blf'>\n",
      "<DirEntry 'NTUSER.DAT{6cced2f1-6e01-11de-8bed-001e0bcd1824}.TMContainer00000000000000000001.regtrans-ms'>\n",
      "<DirEntry 'NTUSER.DAT{6cced2f1-6e01-11de-8bed-001e0bcd1824}.TMContainer00000000000000000002.regtrans-ms'>\n",
      "<DirEntry 'ntuser.ini'>\n",
      "<DirEntry 'Pictures'>\n",
      "<DirEntry 'PrintHood'>\n",
      "<DirEntry 'Recent'>\n",
      "<DirEntry 'Saved Games'>\n",
      "<DirEntry 'Searches'>\n",
      "<DirEntry 'SendTo'>\n",
      "<DirEntry 'Start Menu'>\n",
      "<DirEntry 'Templates'>\n",
      "<DirEntry 'Videos'>\n"
     ]
    }
   ],
   "source": [
    "li=os.scandir('student/')\n",
    "for i in li:\n",
    "    print(i)"
   ]
  },
  {
   "cell_type": "code",
   "execution_count": null,
   "metadata": {},
   "outputs": [],
   "source": []
  }
 ],
 "metadata": {
  "kernelspec": {
   "display_name": "Python 3",
   "language": "python",
   "name": "python3"
  },
  "language_info": {
   "codemirror_mode": {
    "name": "ipython",
    "version": 3
   },
   "file_extension": ".py",
   "mimetype": "text/x-python",
   "name": "python",
   "nbconvert_exporter": "python",
   "pygments_lexer": "ipython3",
   "version": "3.7.3"
  }
 },
 "nbformat": 4,
 "nbformat_minor": 2
}
