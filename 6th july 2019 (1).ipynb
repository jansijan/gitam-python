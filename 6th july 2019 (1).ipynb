{
 "cells": [
  {
   "cell_type": "code",
   "execution_count": null,
   "metadata": {},
   "outputs": [],
   "source": []
  },
  {
   "cell_type": "code",
   "execution_count": 2,
   "metadata": {},
   "outputs": [
    {
     "name": "stdout",
     "output_type": "stream",
     "text": [
      "enter number 15\n",
      "enter number 26\n",
      "enter number 37\n",
      "7 is the large number\n"
     ]
    }
   ],
   "source": [
    "a1=int(input(\"enter number 1\"))\n",
    "a2=int(input(\"enter number 2\"))\n",
    "a3=int(input(\"enter number 3\"))\n",
    "if a1>a2 and a1>a3:\n",
    "        print(a1,\"is the largr number\")\n",
    "elif a2>a1 and a2>a3:\n",
    "        print(a2,\"is the large number\")\n",
    "else:\n",
    "        print(a3,\"is the large number\")"
   ]
  },
  {
   "cell_type": "markdown",
   "metadata": {},
   "source": [
    "# check if a year is leap year or not"
   ]
  },
  {
   "cell_type": "code",
   "execution_count": 3,
   "metadata": {},
   "outputs": [
    {
     "name": "stdout",
     "output_type": "stream",
     "text": [
      "enter a year2018\n",
      "not a leap year\n"
     ]
    }
   ],
   "source": [
    "y=int(input(\"enter a year\"))\n",
    "if y%4==0:\n",
    "    print(\"leap year\")\n",
    "else:\n",
    "    print(\"not a leap year\")"
   ]
  },
  {
   "cell_type": "markdown",
   "metadata": {},
   "source": [
    "# need print \"gitam\" 5 times"
   ]
  },
  {
   "cell_type": "code",
   "execution_count": 4,
   "metadata": {},
   "outputs": [
    {
     "name": "stdout",
     "output_type": "stream",
     "text": [
      "gitam\n",
      "gitam\n",
      "gitam\n",
      "gitam\n",
      "gitam\n"
     ]
    }
   ],
   "source": [
    "print(\"gitam\")\n",
    "print(\"gitam\")\n",
    "print(\"gitam\")\n",
    "print(\"gitam\")\n",
    "print(\"gitam\")"
   ]
  },
  {
   "cell_type": "code",
   "execution_count": 5,
   "metadata": {},
   "outputs": [
    {
     "name": "stdout",
     "output_type": "stream",
     "text": [
      "gitam\n",
      "gitam\n",
      "gitam\n",
      "gitam\n",
      "gitam\n"
     ]
    }
   ],
   "source": [
    "x=0\n",
    "while x<5:\n",
    "    print(\"gitam\")\n",
    "    x=x+1"
   ]
  },
  {
   "cell_type": "markdown",
   "metadata": {},
   "source": [
    "# print n natural numbers using while loop\n"
   ]
  },
  {
   "cell_type": "code",
   "execution_count": 6,
   "metadata": {},
   "outputs": [
    {
     "name": "stdout",
     "output_type": "stream",
     "text": [
      "enter a number10\n",
      "12345678910"
     ]
    }
   ],
   "source": [
    "n=int(input(\"enter a number\"))\n",
    "i=1\n",
    "while i<=n:\n",
    "        print(i,end=\"\")\n",
    "        i=i+1"
   ]
  },
  {
   "cell_type": "markdown",
   "metadata": {},
   "source": [
    "# print even numbers from 1 to n"
   ]
  },
  {
   "cell_type": "code",
   "execution_count": 8,
   "metadata": {},
   "outputs": [
    {
     "name": "stdout",
     "output_type": "stream",
     "text": [
      "enter a value10\n",
      "0\n",
      "2\n",
      "4\n",
      "6\n",
      "8\n",
      "20\n"
     ]
    }
   ],
   "source": [
    "n=int(input(\"enter a value\"))\n",
    "x=0\n",
    "s=0\n",
    "while x<n:\n",
    "        if x%2==0:\n",
    "            print(x)\n",
    "            s=s+x\n",
    "        x=x+1 \n",
    "print(s)        "
   ]
  },
  {
   "cell_type": "markdown",
   "metadata": {},
   "source": [
    "## print the digits of the given number in reverse"
   ]
  },
  {
   "cell_type": "code",
   "execution_count": 13,
   "metadata": {},
   "outputs": [
    {
     "name": "stdout",
     "output_type": "stream",
     "text": [
      "enter a number143\n",
      "341\n"
     ]
    }
   ],
   "source": [
    "n=int(input(\"enter a number\"))\n",
    "s=0\n",
    "while n>0:\n",
    "    r=n%10\n",
    "    s=s*10+r\n",
    "    n=n//10\n",
    "print(s)    "
   ]
  },
  {
   "cell_type": "code",
   "execution_count": 12,
   "metadata": {},
   "outputs": [
    {
     "data": {
      "text/plain": [
       "9"
      ]
     },
     "execution_count": 12,
     "metadata": {},
     "output_type": "execute_result"
    }
   ],
   "source": [
    "def printlarge(n):\n",
    "        large=0\n",
    "        while n!=0:\n",
    "            r=n%10\n",
    "            if large<r:\n",
    "                large=r\n",
    "            n=n//10\n",
    "        return large\n",
    "printlarge(19528)    "
   ]
  },
  {
   "cell_type": "code",
   "execution_count": 18,
   "metadata": {},
   "outputs": [
    {
     "name": "stdout",
     "output_type": "stream",
     "text": [
      "no\n",
      "yes\n"
     ]
    }
   ],
   "source": [
    "def ispalindrome(n):\n",
    "    rev=0\n",
    "    buffer=n\n",
    "    while n!=0:\n",
    "        r=n%10\n",
    "        rev=rev*10+r\n",
    "        n=n//10\n",
    "    if buffer==rev:\n",
    "        return\"yes\"\n",
    "    else:\n",
    "        return\"no\"\n",
    "print(ispalindrome(123))    \n",
    "print(ispalindrome(121))"
   ]
  },
  {
   "cell_type": "code",
   "execution_count": null,
   "metadata": {},
   "outputs": [],
   "source": [
    "def reverserange(start,end):\n",
    "    for x in range(end,start-1,-1):\n",
    "        print(x,end)"
   ]
  }
 ],
 "metadata": {
  "kernelspec": {
   "display_name": "Python 3",
   "language": "python",
   "name": "python3"
  },
  "language_info": {
   "codemirror_mode": {
    "name": "ipython",
    "version": 3
   },
   "file_extension": ".py",
   "mimetype": "text/x-python",
   "name": "python",
   "nbconvert_exporter": "python",
   "pygments_lexer": "ipython3",
   "version": "3.7.3"
  }
 },
 "nbformat": 4,
 "nbformat_minor": 2
}
